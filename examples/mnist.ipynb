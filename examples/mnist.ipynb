{
 "cells": [
  {
   "cell_type": "markdown",
   "metadata": {},
   "source": [
    "Import all necessary module"
   ]
  },
  {
   "cell_type": "code",
   "execution_count": 1,
   "metadata": {},
   "outputs": [
    {
     "name": "stderr",
     "output_type": "stream",
     "text": [
      "Using TensorFlow backend.\n"
     ]
    }
   ],
   "source": [
    "import keras\n",
    "from keras.datasets import mnist\n",
    "from keras.models import Sequential\n",
    "from keras.layers import Dense, Flatten\n",
    "from keras.layers import Conv2D"
   ]
  },
  {
   "cell_type": "markdown",
   "metadata": {},
   "source": [
    "Define batch size, number of class, number of epochs"
   ]
  },
  {
   "cell_type": "code",
   "execution_count": 2,
   "metadata": {},
   "outputs": [],
   "source": [
    "batch_size = 128\n",
    "num_classes = 10\n",
    "epochs = 12"
   ]
  },
  {
   "cell_type": "markdown",
   "metadata": {},
   "source": [
    "Prepare data"
   ]
  },
  {
   "cell_type": "code",
   "execution_count": 3,
   "metadata": {},
   "outputs": [
    {
     "name": "stdout",
     "output_type": "stream",
     "text": [
      "x_train shape: (1000, 28, 28, 1)\n",
      "1000 train samples\n",
      "10000 test samples\n"
     ]
    }
   ],
   "source": [
    "# input image dimensions\n",
    "img_rows, img_cols, num_channels = 28, 28, 1\n",
    "input_shape = (img_rows, img_cols, num_channels)\n",
    "\n",
    "# the data, split between train and test sets\n",
    "(x_train, y_train), (x_test, y_test) = mnist.load_data()\n",
    "\n",
    "# reduce samples and normalize\n",
    "num_samples = 1000\n",
    "x_train = x_train[:num_samples]\n",
    "y_train = y_train[:num_samples]\n",
    "\n",
    "x_train = x_train.reshape(x_train.shape[0], img_rows, img_cols, 1)\n",
    "x_test = x_test.reshape(x_test.shape[0], img_rows, img_cols, 1)\n",
    "\n",
    "x_train = x_train.astype('float32')\n",
    "x_test = x_test.astype('float32')\n",
    "x_train /= 255\n",
    "x_test /= 255\n",
    "print('x_train shape:', x_train.shape)\n",
    "print(x_train.shape[0], 'train samples')\n",
    "print(x_test.shape[0], 'test samples')"
   ]
  },
  {
   "cell_type": "markdown",
   "metadata": {},
   "source": [
    "Train with Keras"
   ]
  },
  {
   "cell_type": "code",
   "execution_count": 4,
   "metadata": {},
   "outputs": [
    {
     "name": "stdout",
     "output_type": "stream",
     "text": [
      "Train on 1000 samples, validate on 10000 samples\n",
      "Epoch 1/12\n",
      "1000/1000 [==============================] - 15s 15ms/step - loss: 1.8737 - acc: 0.3880 - val_loss: 1.0000 - val_acc: 0.6940\n",
      "Epoch 2/12\n",
      "1000/1000 [==============================] - 13s 13ms/step - loss: 1.1086 - acc: 0.7000 - val_loss: 0.9183 - val_acc: 0.7479\n",
      "Epoch 3/12\n",
      "1000/1000 [==============================] - 13s 13ms/step - loss: 0.6633 - acc: 0.7930 - val_loss: 0.4707 - val_acc: 0.8573\n",
      "Epoch 4/12\n",
      "1000/1000 [==============================] - 12s 12ms/step - loss: 0.3376 - acc: 0.8980 - val_loss: 0.4931 - val_acc: 0.8456\n",
      "Epoch 5/12\n",
      "1000/1000 [==============================] - 12s 12ms/step - loss: 0.2484 - acc: 0.9350 - val_loss: 0.3739 - val_acc: 0.8850\n",
      "Epoch 6/12\n",
      "1000/1000 [==============================] - 12s 12ms/step - loss: 0.2415 - acc: 0.9260 - val_loss: 0.3623 - val_acc: 0.8874\n",
      "Epoch 7/12\n",
      "1000/1000 [==============================] - 12s 12ms/step - loss: 0.1410 - acc: 0.9630 - val_loss: 0.3599 - val_acc: 0.8913\n",
      "Epoch 8/12\n",
      "1000/1000 [==============================] - 12s 12ms/step - loss: 0.1776 - acc: 0.9470 - val_loss: 0.3420 - val_acc: 0.8943\n",
      "Epoch 9/12\n",
      "1000/1000 [==============================] - 12s 12ms/step - loss: 0.0728 - acc: 0.9850 - val_loss: 0.3546 - val_acc: 0.8925\n",
      "Epoch 10/12\n",
      "1000/1000 [==============================] - 12s 12ms/step - loss: 0.0398 - acc: 0.9950 - val_loss: 0.3593 - val_acc: 0.8987\n",
      "Epoch 11/12\n",
      "1000/1000 [==============================] - 12s 12ms/step - loss: 0.0300 - acc: 0.9960 - val_loss: 0.3501 - val_acc: 0.9031\n",
      "Epoch 12/12\n",
      "1000/1000 [==============================] - 12s 12ms/step - loss: 0.0161 - acc: 1.0000 - val_loss: 0.3536 - val_acc: 0.9065\n",
      "Test loss: 0.35360255959890785\n",
      "Test accuracy: 0.9065\n"
     ]
    }
   ],
   "source": [
    "# convert class vectors to binary class matrices\n",
    "y_train = keras.utils.to_categorical(y_train, num_classes)\n",
    "y_test = keras.utils.to_categorical(y_test, num_classes)\n",
    "\n",
    "model = Sequential()\n",
    "model.add(Conv2D(32, kernel_size=(3, 3),\n",
    "                 activation='relu',\n",
    "                 input_shape=input_shape))\n",
    "model.add(Conv2D(64, (3, 3), activation='relu'))\n",
    "# model.add(MaxPooling2D(pool_size=(2, 2)))\n",
    "# model.add(Dropout(0.25))\n",
    "model.add(Flatten())\n",
    "model.add(Dense(128, activation='relu'))\n",
    "# model.add(Dropout(0.5))\n",
    "model.add(Dense(num_classes, activation='softmax'))\n",
    "\n",
    "model.compile(loss=keras.losses.categorical_crossentropy,\n",
    "              optimizer=keras.optimizers.Adadelta(),\n",
    "              metrics=['accuracy'])\n",
    "\n",
    "model.fit(x_train, y_train,\n",
    "          batch_size=batch_size,\n",
    "          epochs=epochs,\n",
    "          verbose=1,\n",
    "          validation_data=(x_test, y_test))\n",
    "score = model.evaluate(x_test, y_test, verbose=0)\n",
    "print('Test loss:', score[0])       # 0.36969225867455824\n",
    "print('Test accuracy:', score[1])   # 0.9074"
   ]
  },
  {
   "cell_type": "code",
   "execution_count": 5,
   "metadata": {},
   "outputs": [
    {
     "ename": "ModuleNotFoundError",
     "evalue": "No module named 'layers'",
     "output_type": "error",
     "traceback": [
      "\u001b[0;31m---------------------------------------------------------------------------\u001b[0m",
      "\u001b[0;31mModuleNotFoundError\u001b[0m                       Traceback (most recent call last)",
      "\u001b[0;32m<ipython-input-5-df364a51bb58>\u001b[0m in \u001b[0;36m<module>\u001b[0;34m\u001b[0m\n\u001b[0;32m----> 1\u001b[0;31m \u001b[0;32mfrom\u001b[0m \u001b[0mlayers\u001b[0m\u001b[0;34m.\u001b[0m\u001b[0mdense\u001b[0m \u001b[0;32mimport\u001b[0m \u001b[0mDense\u001b[0m\u001b[0;34m\u001b[0m\u001b[0m\n\u001b[0m",
      "\u001b[0;31mModuleNotFoundError\u001b[0m: No module named 'layers'"
     ]
    }
   ],
   "source": []
  },
  {
   "cell_type": "code",
   "execution_count": null,
   "metadata": {},
   "outputs": [],
   "source": []
  }
 ],
 "metadata": {
  "kernelspec": {
   "display_name": "Python 3",
   "language": "python",
   "name": "python3"
  },
  "language_info": {
   "codemirror_mode": {
    "name": "ipython",
    "version": 3
   },
   "file_extension": ".py",
   "mimetype": "text/x-python",
   "name": "python",
   "nbconvert_exporter": "python",
   "pygments_lexer": "ipython3",
   "version": "3.6.6"
  }
 },
 "nbformat": 4,
 "nbformat_minor": 1
}
